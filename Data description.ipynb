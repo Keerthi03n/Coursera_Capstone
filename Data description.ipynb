{
    "cells": [
        {
            "metadata": {
                "collapsed": true
            },
            "cell_type": "markdown",
            "source": "# Capstone Project - The Battle of Neighborhoods"
        },
        {
            "metadata": {},
            "cell_type": "markdown",
            "source": "## Introduction\n"
        },
        {
            "metadata": {},
            "cell_type": "markdown",
            "source": "### Restaurants Data"
        },
        {
            "metadata": {},
            "cell_type": "markdown",
            "source": "To obtain the Data for our analysis, lets start with obtaining the data of all the Cafes and also neighborhood restaurants for all the locations of Banglore. Then we can start answering all the questions by analyzing our data. This can be done by scraping data from zomato website"
        },
        {
            "metadata": {},
            "cell_type": "markdown",
            "source": "### Neighborhood data"
        },
        {
            "metadata": {},
            "cell_type": "markdown",
            "source": "Once we obtain all the data related to restaurants and Cafes of our interest, we may also need to understand the neighborhood of each of our cafes to understand more about their performance and consider it as a factor for deciding the best location. This can be obtained as Foursquare API"
        },
        {
            "metadata": {},
            "cell_type": "markdown",
            "source": "### Geocoder python"
        },
        {
            "metadata": {},
            "cell_type": "markdown",
            "source": "To obtain the latitude and longitudes of each location we use Geocoder"
        },
        {
            "metadata": {},
            "cell_type": "markdown",
            "source": "### Process"
        },
        {
            "metadata": {},
            "cell_type": "markdown",
            "source": "1. First we will obtain data of all the Cafes, their average ratings, total # customers and their reviews, pricing etc.\n2. Then we look at neighborhood Restaurants and their trending dishes views, rating and cost and thier potential influence on neighborhood cafes will be analyzed\n3. once we obtain all the data, we compare all the locations for pros and cons by looking at number of Cafes nearby, number of potential restaurant competitors nearby, neighborhood trends and features etc to arrive at the optimal location\n\n"
        }
    ],
    "metadata": {
        "kernelspec": {
            "name": "python3",
            "display_name": "Python 3.6",
            "language": "python"
        },
        "language_info": {
            "name": "python",
            "version": "3.6.9",
            "mimetype": "text/x-python",
            "codemirror_mode": {
                "name": "ipython",
                "version": 3
            },
            "pygments_lexer": "ipython3",
            "nbconvert_exporter": "python",
            "file_extension": ".py"
        }
    },
    "nbformat": 4,
    "nbformat_minor": 1
}
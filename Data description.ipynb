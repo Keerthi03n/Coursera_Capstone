{
    "cells": [
        {
            "cell_type": "markdown",
            "metadata": {
                "collapsed": true
            },
            "source": "# Capstone Project - The Battle of Neighborhoods"
        },
        {
            "cell_type": "markdown",
            "metadata": {},
            "source": "## Introduction\n"
        },
        {
            "cell_type": "markdown",
            "metadata": {},
            "source": "### Restaurants Data"
        },
        {
            "cell_type": "markdown",
            "metadata": {},
            "source": "To obtain the Data for our analysis, first lets obtain the data of all the Cafes and also neighborhood restaurants from all the locations of Banglore. Then we can start answering all the questions by analyzing the data obtained. This can be done by scraping data obtained from the zomato website."
        },
        {
            "cell_type": "markdown",
            "metadata": {},
            "source": "### Neighborhood data"
        },
        {
            "cell_type": "markdown",
            "metadata": {},
            "source": "Once we obtain all the data related to restaurants and Cafes of our interest, we may also need to understand  and analyse the neighborhood of each of our cafes to understand more about their performance and consider it as a factor for deciding the best location. This can be obtained as Foursquare API."
        },
        {
            "cell_type": "markdown",
            "metadata": {},
            "source": "### Geocoder python"
        },
        {
            "cell_type": "markdown",
            "metadata": {},
            "source": "Now  we use geocoder to obtain the latitude and longitude of each location."
        },
        {
            "cell_type": "markdown",
            "metadata": {},
            "source": "### Process"
        },
        {
            "cell_type": "markdown",
            "metadata": {},
            "source": "1. First we will obtain data of all the Cafes, their average ratings, total number of customers and their reviews, pricing etc.\n2. Next we look at neighborhood Restaurants and their trending dishes views, rating and cost and thier potential influence on neighborhood cafes will be analyzed\n3. once we obtain all the data, we compare all the locations for pros and cons by looking at number of Cafes nearby, number of potential restaurant competitors nearby, neighborhood trends and features etc to arrive at the optimal location.\n  \n  \n  By analyzing the existing cafes,their neighbourhoods,their ratings,cuisines and average price ,we can find a optimistic location for establishing a cafe.\n\n"
        }
    ],
    "metadata": {
        "kernelspec": {
            "display_name": "Python 3.6",
            "language": "python",
            "name": "python3"
        },
        "language_info": {
            "codemirror_mode": {
                "name": "ipython",
                "version": 3
            },
            "file_extension": ".py",
            "mimetype": "text/x-python",
            "name": "python",
            "nbconvert_exporter": "python",
            "pygments_lexer": "ipython3",
            "version": "3.6.9"
        }
    },
    "nbformat": 4,
    "nbformat_minor": 1
}